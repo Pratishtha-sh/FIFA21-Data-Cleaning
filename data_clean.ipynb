import pandas as pd
from sklearn.preprocessing import LabelEncoder
import numpy as np
import matplotlib.pyplot as plt
import seaborn as sns
from sklearn.preprocessing import StandardScaler
df = pd.read_csv('C:\\Users\\admin\\Desktop\\FIFA\\fifa21_raw_data.csv')  
print(df.head())
print(df.info())
drop_cols = ['photoUrl', 'playerUrl', 'Name', 'LongName', 'Hits']
df.drop(columns=drop_cols, inplace=True)
cat_cols = [
    'Nationality', 'Positions', 'Team & Contract', 'foot', 'W/F', 'SM', 'A/W', 'D/W', 'IR'
]
le = LabelEncoder()
for col in cat_cols:
    df[col] = df[col].astype(str)
    df[col] = le.fit_transform(df[col])
def money_to_float(x):
    if isinstance(x, str):
        x = x.strip('€')
        if 'M' in x:
            return float(x.replace('M','')) * 1_000_000
        elif 'K' in x:
            return float(x.replace('K','')) * 1_000
        else:
            try:
                return float(x)
            except:
                return np.nan
    return x

df['Value'] = df['Value'].apply(money_to_float)
df['Wage'] = df['Wage'].apply(money_to_float)
df['Release Clause'] = df['Release Clause'].apply(money_to_float)
def height_to_cm(h):
    if isinstance(h, str) and "'" in h:
        feet, inches = h.split("'")
        return int(feet) * 30.48 + int(inches.replace('"','')) * 2.54
    return np.nan

df['Height'] = df['Height'].apply(height_to_cm)
df['Weight'] = df['Weight'].astype(str).str.replace('kg', '').astype(float)
df.fillna(df.median(numeric_only=True), inplace=True)
plt.figure(figsize=(10, 4))
sns.boxplot(data=df, x='Wage')
plt.title("Boxplot of Wage")
plt.show()
Q1 = df['Wage'].quantile(0.25)
Q3 = df['Wage'].quantile(0.75)
IQR = Q3 - Q1
df = df[(df['Wage'] >= Q1 - 1.5 * IQR) & (df['Wage'] <= Q3 + 1.5 * IQR)]
num_cols = df.select_dtypes(include=['float64', 'int64']).columns
scaler = StandardScaler()
df[num_cols] = scaler.fit_transform(df[num_cols])
